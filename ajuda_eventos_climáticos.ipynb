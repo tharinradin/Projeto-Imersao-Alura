{
  "nbformat": 4,
  "nbformat_minor": 0,
  "metadata": {
    "colab": {
      "provenance": [],
      "authorship_tag": "ABX9TyPXO8YuMx0tLdEsuj7fH4WV",
      "include_colab_link": true
    },
    "kernelspec": {
      "name": "python3",
      "display_name": "Python 3"
    },
    "language_info": {
      "name": "python"
    }
  },
  "cells": [
    {
      "cell_type": "markdown",
      "metadata": {
        "id": "view-in-github",
        "colab_type": "text"
      },
      "source": [
        "<a href=\"https://colab.research.google.com/github/tharinradin/Projeto-Imersao-Alura/blob/main/ajuda_eventos_clim%C3%A1ticos.ipynb\" target=\"_parent\"><img src=\"https://colab.research.google.com/assets/colab-badge.svg\" alt=\"Open In Colab\"/></a>"
      ]
    },
    {
      "cell_type": "markdown",
      "source": [
        "importando bibliotecas para o projeto"
      ],
      "metadata": {
        "id": "D7ETjzgGBoQl"
      }
    },
    {
      "cell_type": "code",
      "execution_count": 3,
      "metadata": {
        "id": "r2NLH84X6d69"
      },
      "outputs": [],
      "source": [
        "!pip install -q -U google-generativeai"
      ]
    },
    {
      "cell_type": "code",
      "source": [
        "import google.generativeai as genai\n",
        "from google.colab import userdata\n",
        "api_key = userdata.get(\"SECRET_KEY\")\n",
        "genai.configure(api_key=api_key)"
      ],
      "metadata": {
        "id": "DfQ0DKiaBalm"
      },
      "execution_count": 39,
      "outputs": []
    },
    {
      "cell_type": "markdown",
      "source": [
        "Listar os modelos disponíveis"
      ],
      "metadata": {
        "id": "DbQABV-bFvAR"
      }
    },
    {
      "cell_type": "code",
      "source": [
        "for m in genai.list_models():\n",
        "  if \"generateContent\" in m.supported_generation_methods:\n",
        "    print(m.name)"
      ],
      "metadata": {
        "colab": {
          "base_uri": "https://localhost:8080/",
          "height": 144
        },
        "id": "KvIPrJ6yCYsl",
        "outputId": "87ac51b7-82b8-4887-dc2d-606a2cf1fae2"
      },
      "execution_count": 13,
      "outputs": [
        {
          "output_type": "stream",
          "name": "stdout",
          "text": [
            "models/gemini-1.0-pro\n",
            "models/gemini-1.0-pro-001\n",
            "models/gemini-1.0-pro-latest\n",
            "models/gemini-1.0-pro-vision-latest\n",
            "models/gemini-1.5-pro-latest\n",
            "models/gemini-pro\n",
            "models/gemini-pro-vision\n"
          ]
        }
      ]
    },
    {
      "cell_type": "markdown",
      "source": [
        "Configurações do programa"
      ],
      "metadata": {
        "id": "Jl6tIthDJoGG"
      }
    },
    {
      "cell_type": "code",
      "source": [
        "generation_config = {\n",
        "    \"candidate_count\": 1,\n",
        "    \"temperature\": 0.5,\n",
        "}"
      ],
      "metadata": {
        "id": "n12iezu3Iv1p"
      },
      "execution_count": 14,
      "outputs": []
    },
    {
      "cell_type": "markdown",
      "source": [
        "Configurações de segurança"
      ],
      "metadata": {
        "id": "g-U1vpJ1JuTn"
      }
    },
    {
      "cell_type": "code",
      "source": [
        "safety_settings = {\n",
        "    \"HARASSMENT\": \"BLOCK_NONE\",\n",
        "    \"HATE\": \"BLOCK_NONE\",\n",
        "    \"SEXUAL\": \"BLOCK_NONE\",\n",
        "    \"DANGEROUS\": \"BLOCK_NONE\",\n",
        "}"
      ],
      "metadata": {
        "id": "KVNxRvefJxz5"
      },
      "execution_count": 15,
      "outputs": []
    },
    {
      "cell_type": "markdown",
      "source": [
        "Inicializar o modelo"
      ],
      "metadata": {
        "id": "7ivCDXgiL9gJ"
      }
    },
    {
      "cell_type": "code",
      "source": [
        "model = genai.GenerativeModel(model_name=\"gemini-1.0-pro\",\n",
        "                              generation_config=generation_config,\n",
        "                              safety_settings=safety_settings)"
      ],
      "metadata": {
        "id": "YbzHOSqZMBHE"
      },
      "execution_count": 18,
      "outputs": []
    },
    {
      "cell_type": "markdown",
      "source": [
        "Iniciar geração de conteúdo"
      ],
      "metadata": {
        "id": "s8cEGR4QOPpO"
      }
    },
    {
      "cell_type": "code",
      "source": [
        "response = model.generate_content(\"Crie um manual básico de educação ambiental e sobrevivência para pessoas afetadas por eventos climáticos extremos. Responda com linguagem simples, de forma que até pessoas com pouc estudo consiga entender. Caso a pergunta se refira a um conceito científico complexo, responda com comparações e metáforas para que a resposta utilize algo mais compreensível para a população ter perspectiva sobre os fatos.\")\n",
        "print(response.text)"
      ],
      "metadata": {
        "colab": {
          "base_uri": "https://localhost:8080/",
          "height": 1000
        },
        "id": "8nGAUzPlNURC",
        "outputId": "05a24697-ca80-40ee-baf1-5b71e830a783"
      },
      "execution_count": 36,
      "outputs": [
        {
          "output_type": "stream",
          "name": "stdout",
          "text": [
            "**Manual Básico de Educação Ambiental e Sobrevivência para Eventos Climáticos Extremos**\n",
            "\n",
            "**Introdução**\n",
            "\n",
            "Eventos climáticos extremos, como furacões, inundações e ondas de calor, estão se tornando mais frequentes e intensos devido às mudanças climáticas. Este manual fornecerá informações essenciais para ajudar você a se preparar, responder e se recuperar desses eventos.\n",
            "\n",
            "**Seção 1: Educação Ambiental**\n",
            "\n",
            "* **O que são mudanças climáticas?**\n",
            "    * É como quando você deixa uma panela de água no fogo por muito tempo. A água esquenta e começa a ferver, assim como a Terra está esquentando devido ao aumento dos gases que prendem o calor na atmosfera.\n",
            "* **O que causa mudanças climáticas?**\n",
            "    * Atividades humanas, como queimar combustíveis fósseis (como gasolina e carvão), liberam gases que prendem o calor na atmosfera.\n",
            "* **Quais são os impactos das mudanças climáticas?**\n",
            "    * Eventos climáticos extremos mais frequentes e intensos, aumento do nível do mar e mudanças nos padrões climáticos.\n",
            "\n",
            "**Seção 2: Preparação**\n",
            "\n",
            "* **Faça um plano de emergência:**\n",
            "    * Identifique rotas de fuga, pontos de encontro e contatos de emergência.\n",
            "* **Monte um kit de emergência:**\n",
            "    * Inclua água, alimentos não perecíveis, medicamentos, lanterna, rádio e primeiros socorros.\n",
            "* **Proteja sua casa:**\n",
            "    * Reforce janelas e portas, limpe calhas e remova objetos soltos que possam se tornar projéteis.\n",
            "* **Esteja informado:**\n",
            "    * Monitore previsões meteorológicas e alertas de emergência.\n",
            "\n",
            "**Seção 3: Resposta**\n",
            "\n",
            "* **Durante um evento climático extremo:**\n",
            "    * Siga as instruções das autoridades.\n",
            "    * Evacue se ordenado.\n",
            "    * Fique dentro de casa e longe de janelas.\n",
            "    * Desligue a eletricidade e o gás.\n",
            "* **Após um evento climático extremo:**\n",
            "    * Verifique se há feridos e danos.\n",
            "    * Entre em contato com autoridades de emergência para obter assistência.\n",
            "    * Evite áreas inundadas ou danificadas.\n",
            "\n",
            "**Seção 4: Recuperação**\n",
            "\n",
            "* **Limpeza:**\n",
            "    * Remova escombros e água parada.\n",
            "* **Reparos:**\n",
            "    * Conserte danos à sua casa ou propriedade.\n",
            "* **Saúde e segurança:**\n",
            "    * Esteja atento a riscos à saúde, como mofo e doenças transmitidas pela água.\n",
            "* **Apoio comunitário:**\n",
            "    * Trabalhe junto com sua comunidade para limpar e reconstruir.\n",
            "\n",
            "**Lembre-se:**\n",
            "\n",
            "* A preparação é fundamental.\n",
            "* Siga as instruções das autoridades.\n",
            "* A segurança deve ser sua prioridade.\n",
            "* A recuperação levará tempo e esforço.\n"
          ]
        }
      ]
    },
    {
      "cell_type": "markdown",
      "source": [
        "Criando chat"
      ],
      "metadata": {
        "id": "WdKY0NmGPaO9"
      }
    },
    {
      "cell_type": "code",
      "source": [
        "chat = model.start_chat(history=[])"
      ],
      "metadata": {
        "id": "KdNjG4M2R36S"
      },
      "execution_count": 28,
      "outputs": []
    },
    {
      "cell_type": "code",
      "source": [
        "prompt = input(\"Esperando prompt\")\n",
        "\n",
        "while prompt != \"fim\":\n",
        "  response = chat.send_message(prompt)\n",
        "  print(\"Resposta: \", response.text, \"\\n\")\n",
        "  prompt = input(\"Esperando prompt\")"
      ],
      "metadata": {
        "colab": {
          "base_uri": "https://localhost:8080/",
          "height": 144
        },
        "id": "REu36sX9Pd5F",
        "outputId": "1d533cd7-6604-4b88-cff6-31a16c0330f9"
      },
      "execution_count": 30,
      "outputs": [
        {
          "name": "stdout",
          "output_type": "stream",
          "text": [
            "Esperando promptQual a capital de madagascar?\n",
            "Resposta:  Antananarivo \n",
            "\n",
            "Esperando promptMinha tia nasceu nessa cidade. Qual a nacionalidade dela?\n",
            "Resposta:  Malgaxe \n",
            "\n",
            "Esperando promptfim\n"
          ]
        }
      ]
    },
    {
      "cell_type": "code",
      "source": [
        "prompt = input(\"Esperando prompt\")\n",
        "\n",
        "while prompt != \"fim\":\n",
        "  response = chat.send_message(prompt)\n",
        "  print(\"Resposta: \", response.text, \"\\n\")\n",
        "  prompt = input(\"Esperando prompt\")"
      ],
      "metadata": {
        "colab": {
          "base_uri": "https://localhost:8080/",
          "height": 255
        },
        "id": "9GaIiKe8azdE",
        "outputId": "84b7002c-575b-4f05-abed-0d0da1108da8"
      },
      "execution_count": 37,
      "outputs": [
        {
          "name": "stdout",
          "output_type": "stream",
          "text": [
            "Esperando promptMoro no Rio Grande do Sul. Estão dizendo na tv que vou ter que sair de casa por causa da chuva, é verdade?\n",
            "Resposta:  A decisão de sair de casa devido à chuva depende de vários fatores, incluindo a intensidade e duração da chuva, a localização da sua casa e a infraestrutura local.\n",
            "\n",
            "No Rio Grande do Sul, as chuvas fortes podem causar inundações em algumas áreas, especialmente em regiões baixas ou próximas a rios e córregos. As autoridades locais monitoram as condições meteorológicas e emitem alertas e orientações quando necessário.\n",
            "\n",
            "Se você mora em uma área propensa a inundações ou se as autoridades emitiram um alerta de evacuação, é importante seguir as instruções e sair de casa. Isso é especialmente importante se você mora em uma casa térrea ou se sua casa foi afetada por inundações no passado.\n",
            "\n",
            "Você pode verificar as informações mais recentes sobre as condições meteorológicas e os alertas de evacuação no site do Instituto Nacional de Meteorologia (INMET) ou nas redes sociais das autoridades locais de defesa civil.\n",
            "\n",
            "É sempre melhor ser cauteloso e tomar precauções quando há previsão de chuvas fortes. Se você tiver alguma dúvida ou preocupação, entre em contato com as autoridades locais para obter orientação. \n",
            "\n",
            "Esperando promptfim\n"
          ]
        }
      ]
    },
    {
      "cell_type": "markdown",
      "source": [
        "Melhorando a visualização"
      ],
      "metadata": {
        "id": "YMt6KwBYb55d"
      }
    },
    {
      "cell_type": "code",
      "source": [
        "import textwrap\n",
        "from IPython.display import display\n",
        "from IPython.display import Markdown\n",
        "\n",
        "def to_markdown(text):\n",
        "  text = text.replace('•', '  *')\n",
        "  return Markdown(textwrap.indent(text, '> ', predicate=lambda _: True))"
      ],
      "metadata": {
        "id": "XjMeJNWab8Ox"
      },
      "execution_count": 33,
      "outputs": []
    },
    {
      "cell_type": "code",
      "source": [
        "prompt = input(\"Esperando prompt\")\n",
        "\n",
        "while prompt != \"fim\":\n",
        "  response = chat.send_message(prompt)\n",
        "  print(\"Resposta: \", response.text, \"\\n\")\n",
        "  prompt = input(\"Esperando prompt\")"
      ],
      "metadata": {
        "colab": {
          "base_uri": "https://localhost:8080/",
          "height": 1000
        },
        "id": "cgZUCF_DdL8A",
        "outputId": "f798544c-10c7-44f8-ced9-56047301f47c"
      },
      "execution_count": 38,
      "outputs": [
        {
          "name": "stdout",
          "output_type": "stream",
          "text": [
            "Esperando promptNão quero largar minha casa e meus animais.\n",
            "Resposta:  Entendo sua preocupação. Deixar sua casa e seus animais de estimação pode ser difícil, especialmente durante uma situação estressante como uma evacuação.\n",
            "\n",
            "Se você não quiser deixar sua casa, é importante tomar precauções para garantir sua segurança e a segurança de seus animais de estimação:\n",
            "\n",
            "* **Monitore as condições meteorológicas:** Fique atento às atualizações meteorológicas e aos avisos das autoridades locais.\n",
            "* **Prepare um kit de emergência:** Inclua alimentos, água, medicamentos e suprimentos essenciais para você e seus animais de estimação.\n",
            "* **Identifique um local seguro:** Se sua casa for inundada, tenha um local seguro para onde ir, como o andar superior da casa ou a casa de um vizinho em uma área mais alta.\n",
            "* **Proteja seus animais de estimação:** Leve seus animais de estimação para o local seguro e forneça comida, água e abrigo.\n",
            "* **Esteja preparado para evacuar:** Se as condições piorarem e você precisar evacuar, tenha um plano para levar seus animais de estimação com você. Isso pode incluir o uso de uma caixa de transporte ou o transporte em seu veículo.\n",
            "\n",
            "Se você decidir evacuar, é importante seguir as instruções das autoridades locais e levar seus animais de estimação com você. Muitos abrigos de evacuação aceitam animais de estimação, mas é sempre melhor verificar com antecedência.\n",
            "\n",
            "Lembre-se de que a segurança de você e de seus animais de estimação é a prioridade. Se você tiver alguma dúvida ou preocupação, entre em contato com as autoridades locais ou organizações de ajuda humanitária para obter assistência. \n",
            "\n",
            "Esperando promptTão dizendo na tv que esse monte de chuv é mentira.\n",
            "Resposta:  É importante avaliar criticamente as informações que você ouve, especialmente quando se trata de algo tão importante quanto sua segurança. Aqui estão algumas dicas para avaliar a credibilidade das informações:\n",
            "\n",
            "* **Verifique a fonte:** Quem está fornecendo as informações? É uma fonte confiável e respeitada?\n",
            "* **Procure evidências:** Existem dados, estudos ou testemunhas oculares que apoiam as alegações?\n",
            "* **Considere o contexto:** As informações se alinham com outras informações confiáveis sobre o assunto?\n",
            "* **Esteja atento ao viés:** As informações são apresentadas de forma imparcial ou há uma agenda subjacente?\n",
            "* **Verifique os fatos:** Use ferramentas de verificação de fatos ou consulte organizações de verificação de fatos respeitadas.\n",
            "\n",
            "No caso das chuvas no Rio Grande do Sul, recomendo consultar fontes oficiais, como o Instituto Nacional de Meteorologia (INMET) e a Defesa Civil do estado. Essas organizações monitoram as condições meteorológicas e emitem alertas e orientações com base em dados científicos.\n",
            "\n",
            "Se você tiver alguma dúvida ou preocupação, entre em contato com as autoridades locais para obter informações atualizadas e orientações específicas para sua área. \n",
            "\n",
            "Esperando promptMoro num lugar que já teve furacão, disseram que vai ter de novo esse ano. O que eu faço?\n",
            "Resposta:  Se você mora em uma área que já foi afetada por furacões e há previsão de outro furacão, é importante tomar medidas para se preparar e garantir sua segurança:\n",
            "\n",
            "**Antes do furacão:**\n",
            "\n",
            "* **Crie um plano de emergência:** Isso deve incluir um local de evacuação, rotas de fuga e um plano de comunicação para sua família.\n",
            "* **Monte um kit de emergência:** Inclua alimentos não perecíveis, água, medicamentos, suprimentos de primeiros socorros e outros itens essenciais.\n",
            "* **Proteja sua casa:** Reforce janelas e portas com tábuas ou persianas contra furacões. Remova objetos soltos ao redor de sua casa que possam se tornar projéteis.\n",
            "* **Faça um seguro:** Verifique se sua casa e seus pertences estão adequadamente segurados contra danos causados por furacões.\n",
            "* **Fique informado:** Monitore as previsões meteorológicas e os avisos das autoridades locais.\n",
            "\n",
            "**Durante o furacão:**\n",
            "\n",
            "* **Evacue se solicitado:** Se as autoridades emitirem uma ordem de evacuação, siga-a imediatamente. Vá para o local de evacuação designado ou para um local seguro fora da área afetada.\n",
            "* **Fique dentro de casa:** Se não for possível evacuar, fique dentro de casa e longe de janelas. Vá para o cômodo mais interno da casa, como um banheiro ou closet.\n",
            "* **Proteja-se de detritos:** Cubra-se com colchões, cobertores ou móveis para se proteger de detritos voadores.\n",
            "\n",
            "**Após o furacão:**\n",
            "\n",
            "* **Verifique se há feridos:** Verifique se você ou outras pessoas estão feridas e procure atendimento médico se necessário.\n",
            "* **Inspecione sua casa:** Verifique se há danos em sua casa e propriedade. Não entre em sua casa se ela estiver inundada ou se houver danos estruturais.\n",
            "* **Entre em contato com sua companhia de seguros:** Relate os danos à sua casa e pertences à sua companhia de seguros o mais rápido possível.\n",
            "* **Siga as instruções das autoridades:** As autoridades locais fornecerão instruções sobre como retornar à sua casa e sobre os serviços de assistência disponíveis.\n",
            "\n",
            "Lembre-se de que a segurança é a prioridade. Siga as instruções das autoridades locais e tome as medidas necessárias para se preparar e se proteger durante um furacão. \n",
            "\n",
            "Esperando promptSou prefeito de uma cidadezinha que foi atingida por enchentes e a prefeitura não tinha nenhum plano pra lidar com esse tipo de evento. O que faço?\n",
            "Resposta:  Como prefeito de uma cidadezinha atingida por enchentes e sem um plano de resposta a emergências, aqui estão algumas etapas que você pode seguir:\n",
            "\n",
            "**1. Avalie a situação:**\n",
            "\n",
            "* Determine a extensão dos danos e o número de pessoas afetadas.\n",
            "* Identifique as necessidades imediatas, como abrigo, alimentação e assistência médica.\n",
            "\n",
            "**2. Ative o centro de operações de emergência (COE):**\n",
            "\n",
            "* Estabeleça um local central para coordenar os esforços de resposta.\n",
            "* Reúna representantes de agências governamentais, organizações sem fins lucrativos e voluntários.\n",
            "\n",
            "**3. Estabeleça comunicação:**\n",
            "\n",
            "* Informe o público sobre a situação, os esforços de resposta e as instruções de segurança.\n",
            "* Estabeleça linhas diretas para informações e assistência.\n",
            "\n",
            "**4. Forneça assistência imediata:**\n",
            "\n",
            "* Organize abrigos de emergência para desabrigados.\n",
            "* Forneça alimentos, água e suprimentos médicos.\n",
            "* Estabeleça centros de saúde temporários para tratar feridos.\n",
            "\n",
            "**5. Coordene os esforços de busca e resgate:**\n",
            "\n",
            "* Trabalhe com equipes de emergência para localizar e resgatar pessoas presas ou desaparecidas.\n",
            "* Priorize as áreas mais afetadas e vulneráveis.\n",
            "\n",
            "**6. Avalie os danos e planeje a recuperação:**\n",
            "\n",
            "* Documente os danos à infraestrutura, casas e empresas.\n",
            "* Desenvolva um plano de recuperação de longo prazo que inclua reparos, reconstrução e medidas de mitigação de desastres.\n",
            "\n",
            "**7. Procure assistência externa:**\n",
            "\n",
            "* Entre em contato com agências estaduais e federais para solicitar assistência financeira e recursos.\n",
            "* Colabore com organizações sem fins lucrativos e grupos voluntários para fornecer apoio adicional.\n",
            "\n",
            "**8. Aprenda com o evento:**\n",
            "\n",
            "* Analise a resposta da cidade à enchente e identifique áreas para melhoria.\n",
            "* Desenvolva um plano de resposta a emergências abrangente para eventos futuros.\n",
            "\n",
            "**Lembre-se:**\n",
            "\n",
            "* A segurança dos residentes é a prioridade.\n",
            "* A comunicação clara e a coordenação são essenciais.\n",
            "* A recuperação levará tempo e esforço, mas com planejamento e colaboração, sua comunidade pode se recuperar e se tornar mais resiliente. \n",
            "\n",
            "Esperando promptA água já baixou onde eu moro. Quero voltar pra casa, o que precisa?\n",
            "Resposta:  Depois que as águas da enchente baixarem, é importante tomar precauções ao retornar para casa:\n",
            "\n",
            "**1. Segurança em primeiro lugar:**\n",
            "\n",
            "* Verifique se sua casa é segura para entrar. Procure por danos estruturais, fios elétricos caídos ou vazamentos de gás.\n",
            "* Não entre em contato com águas de enchente, pois podem conter contaminantes perigosos.\n",
            "\n",
            "**2. Avalie os danos:**\n",
            "\n",
            "* Inspecione cuidadosamente sua casa e propriedade por danos.\n",
            "* Tire fotos ou vídeos dos danos para fins de seguro.\n",
            "\n",
            "**3. Limpe e desinfete:**\n",
            "\n",
            "* Abra janelas e portas para ventilar sua casa.\n",
            "* Remova tapetes e cortinas para evitar danos por mofo.\n",
            "* Limpe e desinfete todas as superfícies com água sanitária diluída ou outros desinfetantes.\n",
            "\n",
            "**4. Cuide da sua saúde:**\n",
            "\n",
            "* Beba bastante água limpa.\n",
            "* Evite alimentos e água contaminados.\n",
            "* Esteja atento a sinais de doenças transmitidas pela água, como diarreia, vômitos e erupções cutâneas.\n",
            "\n",
            "**5. Proteja sua propriedade:**\n",
            "\n",
            "* Seque completamente sua casa usando ventiladores, desumidificadores ou ar condicionado.\n",
            "* Repare quaisquer danos estruturais ou vazamentos imediatamente.\n",
            "* Proteja sua casa contra danos futuros, instalando bombas de drenagem ou barreiras contra enchentes.\n",
            "\n",
            "**6. Documente os danos:**\n",
            "\n",
            "* Mantenha um registro de todos os danos e despesas relacionados à enchente.\n",
            "* Entre em contato com sua companhia de seguros para relatar os danos e iniciar o processo de sinistro.\n",
            "\n",
            "**7. Procure ajuda:**\n",
            "\n",
            "* Se você não puder retornar à sua casa ou precisar de assistência, entre em contato com a Cruz Vermelha, agências governamentais ou organizações sem fins lucrativos locais.\n",
            "* Procure apoio emocional e prático de amigos, familiares ou um terapeuta.\n",
            "\n",
            "**Lembre-se:**\n",
            "\n",
            "* A segurança é a prioridade. Não entre em sua casa se ela não for segura.\n",
            "* Documente os danos para fins de seguro.\n",
            "* Limpe e desinfete sua casa para evitar problemas de saúde.\n",
            "* Procure ajuda se precisar. \n",
            "\n",
            "Esperando promptComo posso ajudar pessoas afetadas por enchentes à distância?\n",
            "Resposta:  Existem várias maneiras de ajudar pessoas afetadas por enchentes à distância:\n",
            "\n",
            "**1. Doações financeiras:**\n",
            "\n",
            "* Doe para organizações de ajuda humanitária que estão fornecendo assistência às vítimas das enchentes.\n",
            "* Verifique se as organizações são confiáveis e têm um histórico comprovado de ajuda às pessoas necessitadas.\n",
            "\n",
            "**2. Doações de suprimentos:**\n",
            "\n",
            "* Organize campanhas de arrecadação de suprimentos essenciais, como alimentos não perecíveis, água, roupas e produtos de higiene.\n",
            "* Coordine com organizações locais para distribuir os suprimentos às pessoas afetadas.\n",
            "\n",
            "**3. Voluntariado virtual:**\n",
            "\n",
            "* Ofereça seus serviços remotamente para organizações de ajuda humanitária.\n",
            "* Isso pode incluir tarefas como atendimento ao cliente, arrecadação de fundos ou gerenciamento de mídia social.\n",
            "\n",
            "**4. Conscientização:**\n",
            "\n",
            "* Compartilhe informações sobre as enchentes e os esforços de ajuda nas redes sociais e outras plataformas online.\n",
            "* Isso ajuda a aumentar a conscientização e a mobilizar mais pessoas para ajudar.\n",
            "\n",
            "**5. Apoio emocional:**\n",
            "\n",
            "* Entre em contato com amigos, familiares ou conhecidos que foram afetados pelas enchentes.\n",
            "* Ofereça palavras de conforto, apoio e assistência emocional.\n",
            "\n",
            "**6. Apoio a empresas locais:**\n",
            "\n",
            "* Se você souber de empresas locais que foram afetadas pelas enchentes, considere apoiá-las comprando seus produtos ou serviços.\n",
            "* Isso ajuda a estimular a economia local e a reconstruir a comunidade.\n",
            "\n",
            "**7. Participação em campanhas de reconstrução:**\n",
            "\n",
            "* Depois que as águas da enchente baixarem, participe de campanhas de reconstrução ou iniciativas de voluntariado para ajudar as comunidades afetadas a se recuperarem.\n",
            "\n",
            "**Lembre-se:**\n",
            "\n",
            "* Mesmo que você não possa estar fisicamente presente, sua ajuda e apoio podem fazer uma grande diferença para as pessoas afetadas por enchentes.\n",
            "* Considere suas habilidades e recursos e encontre maneiras de contribuir à distância. \n",
            "\n",
            "Esperando promptfim\n"
          ]
        }
      ]
    }
  ]
}